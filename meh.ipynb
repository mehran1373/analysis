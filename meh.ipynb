{
  "nbformat": 4,
  "nbformat_minor": 0,
  "metadata": {
    "colab": {
      "provenance": [],
      "collapsed_sections": [],
      "authorship_tag": "ABX9TyOvMPwXXmOF/pSwuaImf3H7",
      "include_colab_link": true
    },
    "kernelspec": {
      "name": "python3",
      "display_name": "Python 3"
    },
    "language_info": {
      "name": "python"
    }
  },
  "cells": [
    {
      "cell_type": "markdown",
      "metadata": {
        "id": "view-in-github",
        "colab_type": "text"
      },
      "source": [
        "<a href=\"https://colab.research.google.com/github/mehran1373/analysis/blob/main/meh.ipynb\" target=\"_parent\"><img src=\"https://colab.research.google.com/assets/colab-badge.svg\" alt=\"Open In Colab\"/></a>"
      ]
    },
    {
      "cell_type": "code",
      "source": [
        "\n",
        "\n",
        "# import library\n",
        "import numpy as np\n",
        "import matplotlib.pyplot as plt\n",
        "import seaborn as sns\n",
        "import pandas as pd\n",
        "from sklearn.feature_selection import chi2,SelectKBest,f_classif,_univariate_selection\n",
        "from sklearn.preprocessing import MinMaxScaler,LabelEncoder,OneHotEncoder,StandardScaler\n",
        "from sklearn.model_selection import GridSearchCV,KFold,StratifiedKFold,train_test_split\n",
        "from sklearn.impute import SimpleImputer\n",
        "from sklearn.svm import SVC,SVR\n",
        "from sklearn.tree import DecisionTreeRegressor,DecisionTreeClassifier\n",
        "from sklearn.pipeline import Pipeline\n",
        "from sklearn.linear_model import LinearRegression,LogisticRegression\n",
        "from sklearn.ensemble import RandomForestClassifier,RandomForestRegressor\n",
        "from sklearn.metrics import classification_report,accuracy_score,confusion_matrix,f1_score,mean_squared_error,mean_absolute_percentage_error"
      ],
      "metadata": {
        "id": "TwwtaGxFgjJ4"
      },
      "execution_count": 1,
      "outputs": []
    },
    {
      "cell_type": "markdown",
      "source": [
        "read data.csv"
      ],
      "metadata": {
        "id": "GujWDrAnn4bv"
      }
    },
    {
      "cell_type": "code",
      "source": [
        "data=pd.read_csv('marketing_datane.csv')\n",
        "data=data.rename(columns=str.lower)\n",
        "data=data.rename(columns={' income ':'income'})\n",
        "data['dt_customer']=pd.to_datetime(data['dt_customer']) \n",
        "data['income']=data['income'].str.replace('$','')\n",
        "data['income']=data['income'].str.replace(',','')\n",
        "data['income']=data['income'].astype('float')"
      ],
      "metadata": {
        "id": "eROflgqzpxMT",
        "colab": {
          "base_uri": "https://localhost:8080/"
        },
        "outputId": "45a5d637-df4a-4ab5-b749-0071354e3324"
      },
      "execution_count": 2,
      "outputs": [
        {
          "output_type": "stream",
          "name": "stderr",
          "text": [
            "/usr/local/lib/python3.7/dist-packages/ipykernel_launcher.py:5: FutureWarning: The default value of regex will change from True to False in a future version. In addition, single character regular expressions will *not* be treated as literal strings when regex=True.\n",
            "  \"\"\"\n"
          ]
        }
      ]
    },
    {
      "cell_type": "code",
      "source": [
        "\n",
        "data.count().plot(kind='barh')# income variable has a null values"
      ],
      "metadata": {
        "id": "2Id3H1m_CcgF"
      },
      "execution_count": null,
      "outputs": []
    },
    {
      "cell_type": "markdown",
      "source": [
        "feature enginering"
      ],
      "metadata": {
        "id": "Jon84akbUrIA"
      }
    },
    {
      "cell_type": "code",
      "source": [
        "cat=data.select_dtypes(include='object')\n",
        "num=data.select_dtypes(exclude=['object','datetime'])\n",
        "data['year']=data['dt_customer'].dt.year\n",
        "data['month']=data['dt_customer'].dt.month\n",
        "data['day']=data['dt_customer'].dt.day\n",
        "data['day_name']=data['dt_customer'].dt.day_name()\n",
        "data['month_name']=data['dt_customer'].dt.month_name()"
      ],
      "metadata": {
        "id": "65xHSPFHC-3Q"
      },
      "execution_count": 3,
      "outputs": []
    },
    {
      "cell_type": "code",
      "source": [
        "data=data.drop(['dt_customer','id'],axis=1)"
      ],
      "metadata": {
        "id": "JR0qPFI_k0gt"
      },
      "execution_count": 4,
      "outputs": []
    },
    {
      "cell_type": "code",
      "source": [
        "fig,ax=plt.subplots(figsize=(20,10))\n",
        "sns.heatmap(num.corr(),annot=True)"
      ],
      "metadata": {
        "id": "t9F2PovzJt_Y"
      },
      "execution_count": null,
      "outputs": []
    },
    {
      "cell_type": "markdown",
      "source": [
        "overview of **income**"
      ],
      "metadata": {
        "id": "57tB6FSCAjCV"
      }
    },
    {
      "cell_type": "code",
      "source": [
        "ax=sns.displot(data['income'],bins=2000,)\n",
        "plt.vlines(x=data['income'].mean(),ymin=0,color='k',ymax=20,label='mean of income')\n",
        "plt.text(x=data['income'].mean(),y=-1.5,color='k',s=round(data['income'].mean(),1),ha='center',va='center',fontweight='bold')\n",
        "plt.annotate('mean',fontweight='bold',xy=(data['income'].mean(),15),xycoords='data',xytext=(150000,15),ha='center',va='center',arrowprops=dict(facecolor='black',shrink=0.04))\n",
        "plt.vlines(x=data['income'].max(),ymin=0,ymax=18,label='max of income',color='green')\n",
        "plt.annotate('max',fontweight='bold',xy=(data['income'].max(),12),xycoords='data',xytext=(580000,12),ha='center',va='center',arrowprops=dict(facecolor='green',shrink=0.04))\n",
        "plt.text(x=data['income'].max(),y=-1.5,color='green',ha='center',fontweight='bold',va='center',s=round(data['income'].max(),1))\n",
        "plt.vlines(x=data['income'].min(),ymin=0,ymax=15,color='red',label='min of income')\n",
        "plt.text(x=data['income'].min(),y=-1.5,s=round(data['income'].min(),1),ha='right',color='red',fontweight='bold')\n",
        "plt.annotate('min',xy=(data['income'].min(),12),xycoords='data',xytext=(10,15),ha='center',va='center',fontweight='bold',arrowprops=dict(facecolor='red',shrink=0.04))\n",
        "plt.legend()\n"
      ],
      "metadata": {
        "id": "nm3e1vHXtOfk"
      },
      "execution_count": null,
      "outputs": []
    },
    {
      "cell_type": "markdown",
      "source": [
        "overview of **recency**"
      ],
      "metadata": {
        "id": "IwSHAvaKHuHF"
      }
    },
    {
      "cell_type": "code",
      "source": [
        "sns.histplot(data['recency'],bins=100,kde=True)\n",
        "plt.xticks(ticks=range(0,100,5))"
      ],
      "metadata": {
        "id": "mcDOvX_gEUe-"
      },
      "execution_count": null,
      "outputs": []
    },
    {
      "cell_type": "markdown",
      "source": [
        "overview of **mount varieables**\n",
        "\n"
      ],
      "metadata": {
        "id": "8Y-6Rl_PK4ey"
      }
    },
    {
      "cell_type": "code",
      "source": [
        "mount=data.iloc[:,9:14]\n",
        "for i in mount:\n",
        "  print(i+':','\\n',data[i].value_counts,2*'\\n')\n"
      ],
      "metadata": {
        "id": "19p1ET8nGV3q"
      },
      "execution_count": null,
      "outputs": []
    },
    {
      "cell_type": "code",
      "source": [
        "plt.figure(figsize=(20,20))\n",
        "for i,j in enumerate(mount.columns):\n",
        "  ax=plt.subplot(3,3,i+1)\n",
        "  sns.scatterplot(y=j,x='country',data=data).set_title(j)\n",
        "plt.tight_layout()\n"
      ],
      "metadata": {
        "id": "HG8J6E_sQFb3"
      },
      "execution_count": null,
      "outputs": []
    },
    {
      "cell_type": "markdown",
      "source": [
        "overview of **number variables**\n"
      ],
      "metadata": {
        "id": "lMOhMEE2fyGD"
      }
    },
    {
      "cell_type": "code",
      "source": [
        "number=data.iloc[:,15:18]\n",
        "for i in number:\n",
        "  print(i+':','\\n',data[i].value_counts(),2*'\\n')"
      ],
      "metadata": {
        "id": "jYYXhcFhgI4r"
      },
      "execution_count": null,
      "outputs": []
    },
    {
      "cell_type": "code",
      "source": [
        "plt.figure(figsize=(20,20))\n",
        "for i,j in enumerate(number.columns):\n",
        "  ax=plt.subplot(2,3,i+1)\n",
        "  sns.scatterplot(x='country',size='response',hue='education',y=j,data=data).set_title(j)\n",
        "plt.tight_layout()  "
      ],
      "metadata": {
        "id": "NcuK5Qh3h4zW"
      },
      "execution_count": null,
      "outputs": []
    },
    {
      "cell_type": "code",
      "source": [
        "accepted=data.iloc[:,20:25]\n",
        "for i,j in enumerate(accepted.columns):\n",
        "  ax=plt.subplot(2,3,i+1)\n",
        "  plt.bar(x=data[j].value_counts().index,height=data[j].value_counts().values)\n",
        "  plt.title(j)\n",
        "plt.tight_layout()  "
      ],
      "metadata": {
        "id": "ivyyq4OijxCV"
      },
      "execution_count": null,
      "outputs": []
    },
    {
      "cell_type": "markdown",
      "source": [
        "**EDA**"
      ],
      "metadata": {
        "id": "tg9kHZFLs83-"
      }
    },
    {
      "cell_type": "code",
      "source": [
        "marital_income=data.groupby(['marital_status'])['income'].mean()\n",
        "ax=marital_income.plot(kind='barh')\n",
        "plt.vlines(x=data['income'].mean(),ymin=-1,ymax=10,color='red',lw=3,label='mean')\n",
        "plt.text(x=data['income'].mean(),y=-1.5,s=round(data['income'].mean(),2),fontweight='bold',ha='center',va='center',color='red')\n",
        "plt.legend()\n",
        "plt.annotate('mean',xy=(data['income'].mean(),50),xycoords='data',xytext=(data['income'].mean()+10,50),arrowprops=dict(facecolor='k',shrink=0.04))\n",
        "color=['yellow','white']\n",
        "for p in ax.patches:\n",
        "  if p.get_width()<data['income'].mean():\n",
        "    color='yellow'\n",
        "  else:\n",
        "    color='white'\n",
        "  ax.text(x=p.get_width(),y=p.get_y()+(p.get_height()/2),s='{:.0f}'.format(p.get_width()),color=color,fontweight='bold',ha='right',va='center')\n"
      ],
      "metadata": {
        "id": "YY1Spx67tAV2"
      },
      "execution_count": null,
      "outputs": []
    },
    {
      "cell_type": "code",
      "source": [
        "fig,ax=plt.subplots(figsize=(20,20))\n",
        "mar_inc_coun=data.groupby(['marital_status','country']).agg({'income':[min,'mean',max]})\n",
        "mar_pv=mar_inc_coun.pivot_table(values='income',index='marital_status',columns='country',aggfunc='mean',fill_value=0)\n",
        "ax=sns.heatmap(mar_pv,annot=True,fmt='.0f',linewidths=0.05,annot_kws=dict(fontsize=8,ha='center',va='center',fontweight='bold'))"
      ],
      "metadata": {
        "id": "LLRwT5Cn_KWs"
      },
      "execution_count": null,
      "outputs": []
    },
    {
      "cell_type": "code",
      "source": [
        "rece_dt_month=data.groupby('month')['recency'].mean().plot(marker='o',label='month')\n",
        "rece_dt_day=data.groupby('day')['recency'].mean().plot(marker='o',color='red',label='day')\n",
        "plt.xticks(ticks=range(1,30,2))\n",
        "plt.legend(loc='upper center')"
      ],
      "metadata": {
        "id": "SJqS2QrgIAa1"
      },
      "execution_count": null,
      "outputs": []
    },
    {
      "cell_type": "code",
      "source": [
        "num_dt=data.groupby(['month','country']).agg({'numwebvisitsmonth':'mean'}).unstack()\n",
        "fig,ax=plt.subplots(figsize=(20,10))\n",
        "num_dt.plot(kind='bar',ax=ax)"
      ],
      "metadata": {
        "id": "bIulN1jfSygx"
      },
      "execution_count": null,
      "outputs": []
    },
    {
      "cell_type": "code",
      "source": [
        "fig,ax=plt.subplots(figsize=(10,5))\n",
        "df=data.groupby(['day_name','country']).agg({'response':'count'})\n",
        "df_pivot=pd.pivot_table(data=df,index='day_name',columns='country',values='response',aggfunc='sum')\n",
        "sns.heatmap(df_pivot,annot=True,ax=ax,fmt='.0f',linewidths=0.2)\n",
        "\n"
      ],
      "metadata": {
        "id": "wRk_fk9HUeeJ"
      },
      "execution_count": null,
      "outputs": []
    },
    {
      "cell_type": "code",
      "source": [
        "fig,ax=plt.subplots(figsize=(10,5))\n",
        "dfp=data.groupby(['country','year','month_name','day_name','complain']).agg({'mntmeatproducts':'mean'}).reset_index()\n",
        "dfp=dfp[dfp['complain']==1]\n",
        "df_table=dfp.pivot_table(index='month_name',columns='day_name',values='mntmeatproducts',aggfunc='mean',fill_value=0)\n",
        "sns.heatmap(df_table,annot=True,fmt='.0f',ax=ax)"
      ],
      "metadata": {
        "id": "BNsBogIrSyy3"
      },
      "execution_count": null,
      "outputs": []
    },
    {
      "cell_type": "markdown",
      "source": [
        "modeling"
      ],
      "metadata": {
        "id": "WE58XIdB79Rc"
      }
    },
    {
      "cell_type": "code",
      "source": [
        "condition=[(data['complain']==1)&(data['response']==1),(data['complain']==0)&(data['response']==0),(data['response']==1)&(data['complain']==0),(data['response']==0)&(data['complain']==1)]\n",
        "deal=['Yes_answer','Nothing','No_answer','No_answer']\n",
        "data['act']=np.select(condition,deal)\n",
        "data['act'] # target variable"
      ],
      "metadata": {
        "id": "8RoRhfovG2Ul"
      },
      "execution_count": null,
      "outputs": []
    },
    {
      "cell_type": "code",
      "source": [
        "x=data.drop(['year_birth','act'],axis=1)\n",
        "y=data['act']\n",
        "x_train,x_test,y_train,y_test=train_test_split(x,y,random_state=40,test_size=0.3)"
      ],
      "metadata": {
        "id": "a-jf6l82XWS7"
      },
      "execution_count": 13,
      "outputs": []
    },
    {
      "cell_type": "code",
      "source": [
        "x_test.shape,x_train.shape"
      ],
      "metadata": {
        "id": "zZdU2nGwbZeI"
      },
      "execution_count": null,
      "outputs": []
    },
    {
      "cell_type": "code",
      "source": [
        "y_test.shape,y_train.shape"
      ],
      "metadata": {
        "id": "wziXb90ybrED"
      },
      "execution_count": null,
      "outputs": []
    },
    {
      "cell_type": "code",
      "source": [
        "pipe=Pipeline([('imputer',SimpleImputer()),('encoder',OneHotEncoder()),('scaller',MinMaxScaler()),('feature',SelectKBest()),('classify',SVC())])\n",
        "param_grid={\"imputer__strategy\":['most_frequent','constant'],\n",
        "            'encoder':[OneHotEncoder(sparse=False,handle_unknown='ignore'),LabelEncoder()], \n",
        "            'scaller':[StandardScaler(),MinMaxScaler()],'feature__k':[10,20,30,40],'feature__score_func':[f_classif],\n",
        "            'classify':[SVC(),DecisionTreeClassifier(),RandomForestClassifier(n_estimators=1000),LogisticRegression()]}\n"
      ],
      "metadata": {
        "id": "Jr0jDRyWkDz1"
      },
      "execution_count": 16,
      "outputs": []
    },
    {
      "cell_type": "code",
      "source": [
        "grid=GridSearchCV(pipe,param_grid=param_grid,cv=KFold(),scoring='neg_mean_squared_error')\n",
        "grid.fit(x_train,y_train)"
      ],
      "metadata": {
        "id": "egB5w3M0kCUt"
      },
      "execution_count": null,
      "outputs": []
    },
    {
      "cell_type": "code",
      "source": [
        "print(grid.best_params_,2*'\\n',grid.best_estimator_) # best setimator is SVC()"
      ],
      "metadata": {
        "id": "9HnEHKw4lgm0"
      },
      "execution_count": null,
      "outputs": []
    },
    {
      "cell_type": "code",
      "source": [
        "model=grid.best_estimator_.fit(x_train,y_train)\n",
        "pred=model.predict(x_test)\n"
      ],
      "metadata": {
        "id": "9JoQlWEo2fuA"
      },
      "execution_count": 85,
      "outputs": []
    },
    {
      "cell_type": "markdown",
      "source": [
        "**accuracy**"
      ],
      "metadata": {
        "id": "SP5woMZdBG0N"
      }
    },
    {
      "cell_type": "code",
      "source": [
        "report=accuracy_score(y_test,pred)\n",
        "report"
      ],
      "metadata": {
        "colab": {
          "base_uri": "https://localhost:8080/"
        },
        "id": "ywFq-qzoBJOj",
        "outputId": "75721a17-4131-4a26-f211-9b835ac394f0"
      },
      "execution_count": 106,
      "outputs": [
        {
          "output_type": "execute_result",
          "data": {
            "text/plain": [
              "0.9985119047619048"
            ]
          },
          "metadata": {},
          "execution_count": 106
        }
      ]
    },
    {
      "cell_type": "code",
      "source": [
        "f1_"
      ],
      "metadata": {
        "id": "VjDZSke5pxEO"
      },
      "execution_count": null,
      "outputs": []
    },
    {
      "cell_type": "code",
      "source": [
        "sns.heatmap(confusion_matrix(y_test,pred),annot=True,fmt='.2f',cmap='Blues_r')\n"
      ],
      "metadata": {
        "id": "G7TavbTKkAnq",
        "outputId": "f704ce9c-dbd2-4ffc-d45a-ee6a80a468eb",
        "colab": {
          "base_uri": "https://localhost:8080/",
          "height": 283
        }
      },
      "execution_count": 117,
      "outputs": [
        {
          "output_type": "execute_result",
          "data": {
            "text/plain": [
              "<matplotlib.axes._subplots.AxesSubplot at 0x7fe143f85d90>"
            ]
          },
          "metadata": {},
          "execution_count": 117
        },
        {
          "output_type": "display_data",
          "data": {
            "text/plain": [
              "<Figure size 432x288 with 2 Axes>"
            ],
            "image/png": "[encoded data removed]"
          },
          "metadata": {
            "needs_background": "light"
          }
        }
      ]
    }
  ]
}