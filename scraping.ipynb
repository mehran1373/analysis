{
  "cells": [
    {
      "cell_type": "markdown",
      "metadata": {
        "id": "view-in-github",
        "colab_type": "text"
      },
      "source": [
        "<a href=\"https://colab.research.google.com/github/mehran1373/analysis/blob/main/scraping.ipynb\" target=\"_parent\"><img src=\"https://colab.research.google.com/assets/colab-badge.svg\" alt=\"Open In Colab\"/></a>"
      ]
    },
    {
      "cell_type": "code",
      "source": [
        "import pandas as pd\n",
        "import datetime\n",
        "import time\n",
        "import requests\n",
        "from bs4 import BeautifulSoup"
      ],
      "metadata": {
        "id": "G5RBxz6pJdjF"
      },
      "execution_count": 1,
      "outputs": []
    },
    {
      "cell_type": "code",
      "source": [
        "while True:\n",
        " url='https://arzdigital.com/'\n",
        " response=requests.get(url)\n",
        " soup=BeautifulSoup(response.text,'html.parser')\n",
        " body=soup.find('div',class_='arz-home-coins__list arz-owl-carousel')\n",
        " coins=body.find_all('div',class_='arz-home-coin__container')\n",
        " name=[]\n",
        " prices=[]\n",
        " toman=[]\n",
        " date=[]\n",
        " timee=[]\n",
        " for coin in coins:\n",
        "     names=coin.find('span',class_='arz-home-coin__name').text\n",
        "     name.append(names)\n",
        "     price=coin.find('div',class_='arz-home-coin__price-usd arz-text-overflow-content arz-text-overflow-toright').span.text\n",
        "     prices.append(price)\n",
        "     tom=coin.find('div',class_='arz-home-coin__price-toman arz-text-overflow-content').span.text\n",
        "     toman.append(tom)\n",
        "     times=datetime.datetime.now().strftime('%H:%M')\n",
        "     timee.append(times)\n",
        "     dates=datetime.datetime.now().strftime(\"%Y-%m-%d\")\n",
        "     date.append(dates)\n",
        " data=pd.DataFrame({'name':name,'price':prices,'toman':toman,'date':date,'time':timee})\n",
        " print(data,2*'\\n')\n",
        " time.sleep(60)"
      ],
      "metadata": {
        "id": "YPpEQZDTLUc6",
        "outputId": "54998f3d-1cbc-4949-d6e1-6819a4b60b2d",
        "colab": {
          "base_uri": "https://localhost:8080/"
        }
      },
      "execution_count": null,
      "outputs": [
        {
          "output_type": "stream",
          "name": "stdout",
          "text": [
            "          name      price        toman        date   time\n",
            "0      Bitcoin    $16,793  ۶۰۹,۴۰۶,۲۳۵  2022-11-14  13:27\n",
            "1     Ethereum  $1,261.94   ۴۵,۷۹۳,۶۰۳  2022-11-14  13:27\n",
            "2       Tether  $0.999076       ۳۶,۲۵۴  2022-11-14  13:27\n",
            "3          BNB    $286.38   ۱۰,۳۹۲,۲۲۸  2022-11-14  13:27\n",
            "4     USD Coin      $1.00       ۳۶,۳۰۰  2022-11-14  13:27\n",
            "5  Binance USD      $1.00       ۳۶,۳۲۱  2022-11-14  13:27\n",
            "6          XRP  $0.355419       ۱۲,۸۹۷  2022-11-14  13:27\n",
            "7     Dogecoin  $0.088069        ۳,۱۹۵  2022-11-14  13:27 \n",
            "\n",
            "\n",
            "          name      price        toman        date   time\n",
            "0      Bitcoin    $16,967  ۶۱۵,۹۹۵,۲۰۴  2022-11-14  13:28\n",
            "1     Ethereum  $1,274.29   ۴۶,۲۶۳,۱۲۳  2022-11-14  13:28\n",
            "2       Tether  $0.998990       ۳۶,۲۶۸  2022-11-14  13:28\n",
            "3          BNB    $287.50   ۱۰,۴۳۷,۷۰۹  2022-11-14  13:28\n",
            "4     USD Coin      $1.00       ۳۶,۳۲۳  2022-11-14  13:28\n",
            "5  Binance USD      $1.00       ۳۶,۳۴۵  2022-11-14  13:28\n",
            "6          XRP  $0.356312       ۱۲,۹۳۵  2022-11-14  13:28\n",
            "7     Dogecoin  $0.089255        ۳,۲۴۰  2022-11-14  13:28 \n",
            "\n",
            "\n",
            "          name      price        toman        date   time\n",
            "0      Bitcoin    $16,967  ۶۱۵,۹۹۵,۲۰۴  2022-11-14  13:29\n",
            "1     Ethereum  $1,274.29   ۴۶,۲۶۳,۱۲۳  2022-11-14  13:29\n",
            "2       Tether  $0.998990       ۳۶,۲۶۸  2022-11-14  13:29\n",
            "3          BNB    $287.50   ۱۰,۴۳۷,۷۰۹  2022-11-14  13:29\n",
            "4     USD Coin      $1.00       ۳۶,۳۲۳  2022-11-14  13:29\n",
            "5  Binance USD      $1.00       ۳۶,۳۴۵  2022-11-14  13:29\n",
            "6          XRP  $0.356312       ۱۲,۹۳۵  2022-11-14  13:29\n",
            "7     Dogecoin  $0.089255        ۳,۲۴۰  2022-11-14  13:29 \n",
            "\n",
            "\n",
            "          name      price        toman        date   time\n",
            "0      Bitcoin    $16,967  ۶۱۵,۹۹۵,۲۰۴  2022-11-14  13:30\n",
            "1     Ethereum  $1,274.29   ۴۶,۲۶۳,۱۲۳  2022-11-14  13:30\n",
            "2       Tether  $0.998990       ۳۶,۲۶۸  2022-11-14  13:30\n",
            "3          BNB    $287.50   ۱۰,۴۳۷,۷۰۹  2022-11-14  13:30\n",
            "4     USD Coin      $1.00       ۳۶,۳۲۳  2022-11-14  13:30\n",
            "5  Binance USD      $1.00       ۳۶,۳۴۵  2022-11-14  13:30\n",
            "6          XRP  $0.356312       ۱۲,۹۳۵  2022-11-14  13:30\n",
            "7     Dogecoin  $0.089255        ۳,۲۴۰  2022-11-14  13:30 \n",
            "\n",
            "\n"
          ]
        }
      ]
    }
  ],
  "metadata": {
    "colab": {
      "collapsed_sections": [],
      "name": "Welcome To Colaboratory",
      "toc_visible": true,
      "provenance": [],
      "include_colab_link": true
    },
    "kernelspec": {
      "display_name": "Python 3",
      "name": "python3"
    }
  },
  "nbformat": 4,
  "nbformat_minor": 0
}